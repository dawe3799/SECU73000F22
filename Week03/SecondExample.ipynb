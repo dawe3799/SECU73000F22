{
 "cells": [
  {
   "cell_type": "code",
   "execution_count": 1,
   "id": "9dc17354-61c3-4f0b-8017-38cc923a51a4",
   "metadata": {},
   "outputs": [],
   "source": [
    "#RSA demo"
   ]
  },
  {
   "cell_type": "code",
   "execution_count": 8,
   "id": "6b8af9ce-9750-410f-b9cb-8103f4004ad7",
   "metadata": {},
   "outputs": [],
   "source": [
    "#generate the RSA modulus (n)\n",
    "# n=p*q\n",
    "p=47\n",
    "q=59\n",
    "n = p * q  # =2773"
   ]
  },
  {
   "cell_type": "code",
   "execution_count": 9,
   "id": "aa512bdd-4e24-4f0d-9ebf-b03914971b1a",
   "metadata": {},
   "outputs": [],
   "source": [
    "# from https://www.nsoftware.com/kb/xml/09051401.rst\n",
    "# RSA is used to encrypt messages that are shorter than the modulus of the public key. \n",
    "# For 1024-bit keys, this means that the message must be 117 bytes or fewer (the modulus \n",
    "# is 128-bytes, minus 11 for the padding of the message).\n",
    "# If you need to use RSA on a larger message, the normal method is to use a hybrid scheme, similar to the following:\n",
    "# 1. Generate a key from a password.\n",
    "# 2. Use the key with a symmetric encryption algorithm (such as AES) to encrypt the large message.\n",
    "# 3. Encrypt the key using RSA.\n"
   ]
  },
  {
   "cell_type": "code",
   "execution_count": 10,
   "id": "d7a32678-b100-459c-a098-9d1f45abdc00",
   "metadata": {},
   "outputs": [],
   "source": [
    "#select e -> must be less than (p − 1)(q − 1) and greater than 1 and have no common factors\n",
    "e = 17  # no common factor between 29 and (p-1)(q-1) = 46 * 58 = 2668  (of course, except 1)"
   ]
  },
  {
   "cell_type": "code",
   "execution_count": 11,
   "id": "e1c58116-9ca5-43fb-8166-aa4f278c00e7",
   "metadata": {},
   "outputs": [],
   "source": [
    "#So (n,e) = (2773,17) is our public key -> give this to anyone."
   ]
  },
  {
   "cell_type": "code",
   "execution_count": 12,
   "id": "900cac17-99c7-47ae-b6d2-42ba946e3d8c",
   "metadata": {},
   "outputs": [],
   "source": [
    "# our private key \n",
    "# using https://en.wikipedia.org/wiki/Extended_Euclidean_algorithm\n",
    "# and https://stackoverflow.com/questions/6316453/rsa-private-exponent-determination\n",
    "# and https://www.quora.com/How-do-I-find-D-in-RSA\n",
    "# and book everyday encryption\n",
    "\n",
    "# ed = 1 mod (p − 1)(q − 1)\n",
    "# 17d = 1 mod(47-1)(59-1)\n",
    "# 17d = 1 mod 2668\n",
    "# ed = 17 * ___ = 2669 = 1 mod 2668\n",
    "d = 157\n",
    "\n",
    "#d = pow(17, -1, 2668)"
   ]
  },
  {
   "cell_type": "code",
   "execution_count": 21,
   "id": "82d4fd15-07d9-4444-b41c-34d241fd471a",
   "metadata": {},
   "outputs": [
    {
     "name": "stdout",
     "output_type": "stream",
     "text": [
      "Plain = 1010\n",
      "Cypher = 1816\n"
     ]
    }
   ],
   "source": [
    "# let a=01, b=02, c=03 ... y=25, z=26 ' '=00\n",
    "#yes = 250519   !too big\n",
    "#so, lets make yes = 1010 and no = 0101\n",
    "\n",
    "P =  1010  #this is our plaintext\n",
    "\n",
    "C = (P**e) % n  #this is our cryptext\n",
    "\n",
    "print(\"Plain = \" + str(P))\n",
    "print(\"Cypher = \" + str(C))"
   ]
  },
  {
   "cell_type": "code",
   "execution_count": 22,
   "id": "d3065f84-05cb-4dc9-bae9-40b03a11725d",
   "metadata": {},
   "outputs": [
    {
     "name": "stdout",
     "output_type": "stream",
     "text": [
      "Plain = 1010\n"
     ]
    }
   ],
   "source": [
    "#decrypt\n",
    "Plaintext = C**d % n\n",
    "print(\"Plain = \" + str(Plaintext))"
   ]
  },
  {
   "cell_type": "code",
   "execution_count": 27,
   "id": "c78475bc-5c45-4c3e-83d9-1a7d6e2e7cd7",
   "metadata": {},
   "outputs": [
    {
     "name": "stdout",
     "output_type": "stream",
     "text": [
      "Prime numbers between 123456789123456789 and 223456789123456789 are:\n"
     ]
    },
    {
     "ename": "KeyboardInterrupt",
     "evalue": "",
     "output_type": "error",
     "traceback": [
      "\u001b[0;31m---------------------------------------------------------------------------\u001b[0m",
      "\u001b[0;31mKeyboardInterrupt\u001b[0m                         Traceback (most recent call last)",
      "\u001b[0;32m<ipython-input-27-2e6cc5d7a804>\u001b[0m in \u001b[0;36m<module>\u001b[0;34m\u001b[0m\n\u001b[1;32m     10\u001b[0m    \u001b[0;32mif\u001b[0m \u001b[0mnum\u001b[0m \u001b[0;34m>\u001b[0m \u001b[0;36m1\u001b[0m\u001b[0;34m:\u001b[0m\u001b[0;34m\u001b[0m\u001b[0;34m\u001b[0m\u001b[0m\n\u001b[1;32m     11\u001b[0m        \u001b[0;32mfor\u001b[0m \u001b[0mi\u001b[0m \u001b[0;32min\u001b[0m \u001b[0mrange\u001b[0m\u001b[0;34m(\u001b[0m\u001b[0;36m2\u001b[0m\u001b[0;34m,\u001b[0m \u001b[0mnum\u001b[0m\u001b[0;34m)\u001b[0m\u001b[0;34m:\u001b[0m\u001b[0;34m\u001b[0m\u001b[0;34m\u001b[0m\u001b[0m\n\u001b[0;32m---> 12\u001b[0;31m            \u001b[0;32mif\u001b[0m \u001b[0;34m(\u001b[0m\u001b[0mnum\u001b[0m \u001b[0;34m%\u001b[0m \u001b[0mi\u001b[0m\u001b[0;34m)\u001b[0m \u001b[0;34m==\u001b[0m \u001b[0;36m0\u001b[0m\u001b[0;34m:\u001b[0m\u001b[0;34m\u001b[0m\u001b[0;34m\u001b[0m\u001b[0m\n\u001b[0m\u001b[1;32m     13\u001b[0m                \u001b[0;32mbreak\u001b[0m\u001b[0;34m\u001b[0m\u001b[0;34m\u001b[0m\u001b[0m\n\u001b[1;32m     14\u001b[0m        \u001b[0;32melse\u001b[0m\u001b[0;34m:\u001b[0m\u001b[0;34m\u001b[0m\u001b[0;34m\u001b[0m\u001b[0m\n",
      "\u001b[0;31mKeyboardInterrupt\u001b[0m: "
     ]
    }
   ],
   "source": [
    "# Python program to display all the prime numbers within an interval\n",
    "\n",
    "lower = 123456789123456789\n",
    "upper = 223456789123456789\n",
    "\n",
    "print(\"Prime numbers between\", lower, \"and\", upper, \"are:\")\n",
    "\n",
    "for num in range(lower, upper + 1):\n",
    "   # all prime numbers are greater than 1\n",
    "   if num > 1:\n",
    "       for i in range(2, num):\n",
    "           if (num % i) == 0:\n",
    "               break\n",
    "       else:\n",
    "           print(num)"
   ]
  },
  {
   "cell_type": "code",
   "execution_count": 28,
   "id": "1952c8ed-81fd-4935-aec0-2affdebc6203",
   "metadata": {},
   "outputs": [],
   "source": [
    "#more information\n",
    "# https://www.youtube.com/watch?v=tQtFdsEcK_s\n",
    "# https://www.youtube.com/watch?v=JA_YrFwE1hc"
   ]
  },
  {
   "cell_type": "code",
   "execution_count": null,
   "id": "9e78e6ec-7b5d-48f2-978d-693cbd0a828e",
   "metadata": {},
   "outputs": [],
   "source": []
  }
 ],
 "metadata": {
  "kernelspec": {
   "display_name": "Python 3",
   "language": "python",
   "name": "python3"
  },
  "language_info": {
   "codemirror_mode": {
    "name": "ipython",
    "version": 3
   },
   "file_extension": ".py",
   "mimetype": "text/x-python",
   "name": "python",
   "nbconvert_exporter": "python",
   "pygments_lexer": "ipython3",
   "version": "3.6.9"
  }
 },
 "nbformat": 4,
 "nbformat_minor": 5
}
