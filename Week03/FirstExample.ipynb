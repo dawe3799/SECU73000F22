{
 "cells": [
  {
   "cell_type": "code",
   "execution_count": 14,
   "id": "093060dc-2bcb-435b-8e6d-46eb441da197",
   "metadata": {},
   "outputs": [],
   "source": [
    "#Example 1"
   ]
  },
  {
   "cell_type": "code",
   "execution_count": 15,
   "id": "adc5baab-3ace-4e94-be4e-9ffc697c97e1",
   "metadata": {},
   "outputs": [
    {
     "name": "stdout",
     "output_type": "stream",
     "text": [
      "1\n"
     ]
    }
   ],
   "source": [
    "#select p and q:\n",
    "p=11\n",
    "q=7\n",
    "\n",
    "#calculate n:\n",
    "n=p*q   # n = 77\n",
    "\n",
    "#pick an e (no common factor between e and phi(n) (p-1)(q-1)):\n",
    "e=17\n",
    "\n",
    "#phi(n) = (11-1)(7-1) = 60  \n",
    "\n",
    "#to find d:\n",
    "# e*d mod phi(n) = 1\n",
    "# 17d mod(60) = 1\n",
    "#   rearrange:   60 => 17\n",
    "#                60 = 17(3) + 9\n",
    "#                rearrange:  17 => 9\n",
    "#                            17 = 1(9) + 8\n",
    "#                            rearrange:  9 => 8\n",
    "#                                        9 = 1(8) + 1\n",
    "#                                        reverse this:  1 = 9 - 1(8)\n",
    "#                            then subsititute: 1 = 9 - 1(17 - 1(9))\n",
    "#                            group similar terms: 1 = 1(9) - 1(17) + 1(9)  \n",
    "#                                                 1 = 2(9) - 1(17) \n",
    "#                then substitute: 1 = 2(60-3(17)) - 1(17)\n",
    "#                group similar terms: 1 = 2(60) - 6(17) - 1(17)\n",
    "#                                     1 = 2(60) - 7(17)\n",
    "#                we are back at the original 60 and 17, so take the multiplier of the \n",
    "#.               2nd term and subtract from the first:  60-7 = d = 53\n",
    "d=53\n",
    "\n",
    "# 17d mod(60) = 1\n",
    "#d=53, so:\n",
    "print(17*d % 60)   "
   ]
  },
  {
   "cell_type": "code",
   "execution_count": 16,
   "id": "486273fa-b9d1-4f57-bf0c-2e2bbc36a9ab",
   "metadata": {},
   "outputs": [
    {
     "name": "stdout",
     "output_type": "stream",
     "text": [
      "53\n"
     ]
    }
   ],
   "source": [
    "# from https://en.wikibooks.org/wiki/Algorithm_Implementation/Mathematics/Extended_Euclidean_algorithm\n",
    "\n",
    "def egcd(a, b):\n",
    "    if a == 0:\n",
    "        return (b, 0, 1)\n",
    "    else:\n",
    "        g, y, x = egcd(b % a, a)\n",
    "        return (g, x - (b // a) * y, y)\n",
    "\n",
    "def modinv(a, m):\n",
    "    g, x, y = egcd(a, m)\n",
    "    if g != 1:\n",
    "        raise Exception('modular inverse does not exist')\n",
    "    else:\n",
    "        return x % m\n",
    "    \n",
    "print(modinv(17, 60))  #modinv(e, phi(n))"
   ]
  },
  {
   "cell_type": "code",
   "execution_count": 17,
   "id": "c66318a1-1634-48c5-9d11-8bc68d8f848c",
   "metadata": {},
   "outputs": [
    {
     "name": "stdout",
     "output_type": "stream",
     "text": [
      "Plain = 10\n",
      "Cypher = 54\n"
     ]
    }
   ],
   "source": [
    "#encrypt\n",
    "P =  10  #this is our plaintext\n",
    "\n",
    "C = (P**e) % n  #this is our cryptext\n",
    "\n",
    "print(\"Plain = \" + str(P))\n",
    "print(\"Cypher = \" + str(C))"
   ]
  },
  {
   "cell_type": "code",
   "execution_count": 13,
   "id": "ce1e5fd4-adcd-4fa3-84a6-42f12d69f4d5",
   "metadata": {},
   "outputs": [
    {
     "name": "stdout",
     "output_type": "stream",
     "text": [
      "Plain = 10\n"
     ]
    }
   ],
   "source": [
    "#decrypt\n",
    "Plaintext = C**d % n\n",
    "print(\"Plain = \" + str(Plaintext))"
   ]
  },
  {
   "cell_type": "code",
   "execution_count": 11,
   "id": "6e397c29-d640-45de-8f2d-136858bb4c0d",
   "metadata": {},
   "outputs": [
    {
     "name": "stdout",
     "output_type": "stream",
     "text": [
      "Python 3.6.9\n"
     ]
    },
    {
     "ename": "ValueError",
     "evalue": "pow() 2nd argument cannot be negative when 3rd argument specified",
     "output_type": "error",
     "traceback": [
      "\u001b[0;31m---------------------------------------------------------------------------\u001b[0m",
      "\u001b[0;31mValueError\u001b[0m                                Traceback (most recent call last)",
      "\u001b[0;32m<ipython-input-11-f3c8c90b743f>\u001b[0m in \u001b[0;36m<module>\u001b[0;34m\u001b[0m\n\u001b[1;32m      1\u001b[0m \u001b[0mget_ipython\u001b[0m\u001b[0;34m(\u001b[0m\u001b[0;34m)\u001b[0m\u001b[0;34m.\u001b[0m\u001b[0msystem\u001b[0m\u001b[0;34m(\u001b[0m\u001b[0;34m'python3 --version '\u001b[0m\u001b[0;34m)\u001b[0m\u001b[0;34m\u001b[0m\u001b[0;34m\u001b[0m\u001b[0m\n\u001b[1;32m      2\u001b[0m \u001b[0;34m\u001b[0m\u001b[0m\n\u001b[0;32m----> 3\u001b[0;31m \u001b[0my\u001b[0m \u001b[0;34m=\u001b[0m \u001b[0mpow\u001b[0m\u001b[0;34m(\u001b[0m\u001b[0;36m17\u001b[0m\u001b[0;34m,\u001b[0m \u001b[0;34m-\u001b[0m\u001b[0;36m1\u001b[0m\u001b[0;34m,\u001b[0m \u001b[0;36m60\u001b[0m\u001b[0;34m)\u001b[0m  \u001b[0;31m#for python 3.8+\u001b[0m\u001b[0;34m\u001b[0m\u001b[0;34m\u001b[0m\u001b[0m\n\u001b[0m",
      "\u001b[0;31mValueError\u001b[0m: pow() 2nd argument cannot be negative when 3rd argument specified"
     ]
    }
   ],
   "source": [
    "#if you have a newer python (3.8+)\n",
    "\n",
    "!python3 --version \n",
    "\n",
    "y = pow(17, -1, 60)  #for python 3.8+"
   ]
  },
  {
   "cell_type": "code",
   "execution_count": null,
   "id": "5c067f7d-934c-463f-ab53-7975dec02387",
   "metadata": {},
   "outputs": [],
   "source": []
  }
 ],
 "metadata": {
  "kernelspec": {
   "display_name": "Python 3",
   "language": "python",
   "name": "python3"
  },
  "language_info": {
   "codemirror_mode": {
    "name": "ipython",
    "version": 3
   },
   "file_extension": ".py",
   "mimetype": "text/x-python",
   "name": "python",
   "nbconvert_exporter": "python",
   "pygments_lexer": "ipython3",
   "version": "3.6.9"
  }
 },
 "nbformat": 4,
 "nbformat_minor": 5
}
